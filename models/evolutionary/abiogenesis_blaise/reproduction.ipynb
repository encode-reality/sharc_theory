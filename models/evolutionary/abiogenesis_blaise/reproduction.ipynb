{
 "cells": [
  {
   "cell_type": "code",
   "execution_count": null,
   "metadata": {},
   "outputs": [],
   "source": [
    "import random\n",
    "import zlib\n",
    "import numpy as np\n",
    "from multiprocessing import Pool, cpu_count\n",
    "from collections import Counter\n",
    "\n",
    "# Brainfuck-inspired instructions\n",
    "INSTRUCTIONS = ['<', '>', '+', '-', '.', '[', ']']\n",
    "TAPE_LENGTH = 64\n",
    "SOUP_SIZE = 1024\n",
    "MUTATION_RATE = 0.01\n",
    "MAX_STEPS = 10000\n",
    "\n",
    "\n",
    "def generate_random_tape(length=TAPE_LENGTH):\n",
    "    \"\"\"Generate a random tape of given length.\"\"\"\n",
    "    return [random.choice(INSTRUCTIONS + [None]) for _ in range(length)]\n",
    "\n",
    "\n",
    "def mutate_tape(tape, rate=MUTATION_RATE):\n",
    "    \"\"\"Introduce mutations into a tape.\"\"\"\n",
    "    return [\n",
    "        random.choice(INSTRUCTIONS + [None]) if random.random() < rate else x\n",
    "        for x in tape\n",
    "    ]\n",
    "\n",
    "\n",
    "def execute_tape(tape, max_steps=MAX_STEPS):\n",
    "    \"\"\"Execute a Brainfuck-inspired tape.\"\"\"\n",
    "    data = [0] * TAPE_LENGTH\n",
    "    dp = 0\n",
    "    operations = 0\n",
    "\n",
    "    for _ in range(max_steps):\n",
    "        if operations >= len(tape):\n",
    "            break\n",
    "        cmd = tape[operations]\n",
    "        if cmd == '>':\n",
    "            dp = (dp + 1) % TAPE_LENGTH\n",
    "        elif cmd == '<':\n",
    "            dp = (dp - 1) % TAPE_LENGTH\n",
    "        elif cmd == '+':\n",
    "            data[dp] = (data[dp] + 1) % 256\n",
    "        elif cmd == '-':\n",
    "            data[dp] = (data[dp] - 1) % 256\n",
    "        elif cmd == '.':\n",
    "            pass  # Output (ignored for simplicity)\n",
    "        elif cmd == '[' and data[dp] == 0:\n",
    "            # Skip to matching ]\n",
    "            depth = 1\n",
    "            while depth > 0 and operations + 1 < len(tape):\n",
    "                operations += 1\n",
    "                if tape[operations] == '[':\n",
    "                    depth += 1\n",
    "                elif tape[operations] == ']':\n",
    "                    depth -= 1\n",
    "        elif cmd == ']' and data[dp] != 0:\n",
    "            # Return to matching [\n",
    "            depth = 1\n",
    "            while depth > 0 and operations - 1 >= 0:\n",
    "                operations -= 1\n",
    "                if tape[operations] == ']':\n",
    "                    depth += 1\n",
    "                elif tape[operations] == '[':\n",
    "                    depth -= 1\n",
    "        operations += 1\n",
    "    return data\n",
    "\n",
    "\n",
    "def interaction(pair):\n",
    "    \"\"\"Simulate interaction between two tapes.\"\"\"\n",
    "    tape1, tape2 = pair\n",
    "    combined_tape = tape1 + tape2\n",
    "    output = execute_tape(combined_tape)\n",
    "    return output\n",
    "\n",
    "\n",
    "def compressibility(soup):\n",
    "    \"\"\"Calculate compressibility of the soup.\"\"\"\n",
    "    soup_bytes = ''.join([str(item) for tape in soup for item in tape if item]).encode()\n",
    "    compressed_size = len(zlib.compress(soup_bytes))\n",
    "    return compressed_size / len(soup_bytes) if soup_bytes else 1.0\n",
    "\n",
    "\n",
    "def simulation_step(soup):\n",
    "    \"\"\"Perform one step of the simulation.\"\"\"\n",
    "    new_soup = []\n",
    "    for _ in range(len(soup)):\n",
    "        t1, t2 = random.sample(soup, 2)\n",
    "        result = interaction((t1, t2))\n",
    "        new_tape = mutate_tape(result)\n",
    "        new_soup.append(new_tape)\n",
    "    return new_soup\n",
    "\n",
    "\n",
    "def simulate(soup, steps=100):\n",
    "    \"\"\"Run the full simulation.\"\"\"\n",
    "    compressibility_metrics = []\n",
    "    operations_metrics = []\n",
    "\n",
    "    for step in range(steps):\n",
    "        soup = simulation_step(soup)\n",
    "        comp = compressibility(soup)\n",
    "        compressibility_metrics.append(comp)\n",
    "        operations_metrics.append(sum(len(tape) for tape in soup))\n",
    "\n",
    "    return compressibility_metrics, operations_metrics\n",
    "\n",
    "\n",
    "if __name__ == \"__main__\":\n",
    "    # Initialize random soup\n",
    "    initial_soup = [generate_random_tape() for _ in range(SOUP_SIZE)]\n",
    "\n",
    "    # Run simulation with multiprocessing\n",
    "    with Pool(cpu_count()) as pool:\n",
    "        results = pool.map(simulate, [initial_soup] * cpu_count())\n",
    "\n",
    "    # Combine and analyze results\n",
    "    avg_compressibility = np.mean([res[0] for res in results], axis=0)\n",
    "    avg_operations = np.mean([res[1] for res in results], axis=0)\n",
    "\n",
    "    # Plot results\n",
    "    import matplotlib.pyplot as plt\n",
    "\n",
    "    plt.figure()\n",
    "    plt.plot(avg_compressibility, label=\"Compressibility\")\n",
    "    plt.title(\"Compressibility Over Time\")\n",
    "    plt.xlabel(\"Steps\")\n",
    "    plt.ylabel(\"Compressibility\")\n",
    "    plt.legend()\n",
    "    plt.show()\n",
    "\n",
    "    plt.figure()\n",
    "    plt.plot(avg_operations, label=\"Operations per Step\")\n",
    "    plt.title(\"Operations Over Time\")\n",
    "    plt.xlabel(\"Steps\")\n",
    "    plt.ylabel(\"Operations\")\n",
    "    plt.legend()\n",
    "    plt.show()\n"
   ]
  },
  {
   "cell_type": "code",
   "execution_count": null,
   "metadata": {},
   "outputs": [
    {
     "ename": "NameError",
     "evalue": "name 'randint' is not defined",
     "output_type": "error",
     "traceback": [
      "\u001b[1;31m---------------------------------------------------------------------------\u001b[0m",
      "\u001b[1;31mRemoteTraceback\u001b[0m                           Traceback (most recent call last)",
      "\u001b[1;31mRemoteTraceback\u001b[0m: \n\"\"\"\nTraceback (most recent call last):\n  File \"f:\\Documents\\GitHub\\sharc_theory\\.venv\\Lib\\site-packages\\multiprocess\\pool.py\", line 125, in worker\n    result = (True, func(*args, **kwds))\n                    ^^^^^^^^^^^^^^^^^^^\n  File \"f:\\Documents\\GitHub\\sharc_theory\\.venv\\Lib\\site-packages\\multiprocess\\pool.py\", line 48, in mapstar\n    return list(map(*args))\n           ^^^^^^^^^^^^^^^^\n  File \"f:\\Documents\\GitHub\\sharc_theory\\.venv\\Lib\\site-packages\\pathos\\helpers\\mp_helper.py\", line 15, in <lambda>\n    func = lambda args: f(*args)\n                        ^^^^^^^^\n  File \"C:\\Users\\mrkahn\\AppData\\Local\\Temp\\ipykernel_42004\\3505956990.py\", line 27, in interact_and_mutate\nNameError: name 'randint' is not defined\n\"\"\"",
      "\nThe above exception was the direct cause of the following exception:\n",
      "\u001b[1;31mNameError\u001b[0m                                 Traceback (most recent call last)",
      "Cell \u001b[1;32mIn[2], line 1\u001b[0m\n\u001b[1;32m----> 1\u001b[0m operation_counts \u001b[38;5;241m=\u001b[39m \u001b[43mrun_simulation\u001b[49m\u001b[43m(\u001b[49m\u001b[43m)\u001b[49m\n",
      "Cell \u001b[1;32mIn[1], line 65\u001b[0m, in \u001b[0;36mrun_simulation\u001b[1;34m()\u001b[0m\n\u001b[0;32m     58\u001b[0m \u001b[38;5;28;01mfor\u001b[39;00m generation \u001b[38;5;129;01min\u001b[39;00m \u001b[38;5;28mrange\u001b[39m(NUM_GENERATIONS):\n\u001b[0;32m     59\u001b[0m     tape_pairs \u001b[38;5;241m=\u001b[39m [\n\u001b[0;32m     60\u001b[0m         (population[randint(\u001b[38;5;241m0\u001b[39m, POPULATION_SIZE \u001b[38;5;241m-\u001b[39m \u001b[38;5;241m1\u001b[39m)],\n\u001b[0;32m     61\u001b[0m          population[randint(\u001b[38;5;241m0\u001b[39m, POPULATION_SIZE \u001b[38;5;241m-\u001b[39m \u001b[38;5;241m1\u001b[39m)])\n\u001b[0;32m     62\u001b[0m         \u001b[38;5;28;01mfor\u001b[39;00m _ \u001b[38;5;129;01min\u001b[39;00m \u001b[38;5;28mrange\u001b[39m(POPULATION_SIZE \u001b[38;5;241m/\u001b[39m\u001b[38;5;241m/\u001b[39m \u001b[38;5;241m2\u001b[39m)\n\u001b[0;32m     63\u001b[0m     ]\n\u001b[1;32m---> 65\u001b[0m     results \u001b[38;5;241m=\u001b[39m \u001b[43mpool\u001b[49m\u001b[38;5;241;43m.\u001b[39;49m\u001b[43mmap\u001b[49m\u001b[43m(\u001b[49m\u001b[43minteract_and_mutate\u001b[49m\u001b[43m,\u001b[49m\u001b[43m \u001b[49m\u001b[43mtape_pairs\u001b[49m\u001b[43m)\u001b[49m\n\u001b[0;32m     67\u001b[0m     \u001b[38;5;28;01mfor\u001b[39;00m i, (new_tape1, new_tape2) \u001b[38;5;129;01min\u001b[39;00m \u001b[38;5;28menumerate\u001b[39m(results):\n\u001b[0;32m     68\u001b[0m         population[\u001b[38;5;241m2\u001b[39m \u001b[38;5;241m*\u001b[39m i] \u001b[38;5;241m=\u001b[39m new_tape1\n",
      "File \u001b[1;32mf:\\Documents\\GitHub\\sharc_theory\\.venv\\Lib\\site-packages\\pathos\\multiprocessing.py:154\u001b[0m, in \u001b[0;36mProcessPool.map\u001b[1;34m(self, f, *args, **kwds)\u001b[0m\n\u001b[0;32m    152\u001b[0m \u001b[38;5;28;01mif\u001b[39;00m \u001b[38;5;129;01mnot\u001b[39;00m OLD312a7:\n\u001b[0;32m    153\u001b[0m     warnings\u001b[38;5;241m.\u001b[39mfilterwarnings(\u001b[38;5;124m'\u001b[39m\u001b[38;5;124mignore\u001b[39m\u001b[38;5;124m'\u001b[39m, category\u001b[38;5;241m=\u001b[39m\u001b[38;5;167;01mDeprecationWarning\u001b[39;00m)\n\u001b[1;32m--> 154\u001b[0m \u001b[38;5;28;01mreturn\u001b[39;00m \u001b[43m_pool\u001b[49m\u001b[38;5;241;43m.\u001b[39;49m\u001b[43mmap\u001b[49m\u001b[43m(\u001b[49m\u001b[43mstar\u001b[49m\u001b[43m(\u001b[49m\u001b[43mf\u001b[49m\u001b[43m)\u001b[49m\u001b[43m,\u001b[49m\u001b[43m \u001b[49m\u001b[38;5;28;43mzip\u001b[39;49m\u001b[43m(\u001b[49m\u001b[38;5;241;43m*\u001b[39;49m\u001b[43margs\u001b[49m\u001b[43m)\u001b[49m\u001b[43m,\u001b[49m\u001b[43m \u001b[49m\u001b[38;5;241;43m*\u001b[39;49m\u001b[38;5;241;43m*\u001b[39;49m\u001b[43mkwds\u001b[49m\u001b[43m)\u001b[49m\n",
      "File \u001b[1;32mf:\\Documents\\GitHub\\sharc_theory\\.venv\\Lib\\site-packages\\multiprocess\\pool.py:367\u001b[0m, in \u001b[0;36mPool.map\u001b[1;34m(self, func, iterable, chunksize)\u001b[0m\n\u001b[0;32m    362\u001b[0m \u001b[38;5;28;01mdef\u001b[39;00m \u001b[38;5;21mmap\u001b[39m(\u001b[38;5;28mself\u001b[39m, func, iterable, chunksize\u001b[38;5;241m=\u001b[39m\u001b[38;5;28;01mNone\u001b[39;00m):\n\u001b[0;32m    363\u001b[0m \u001b[38;5;250m    \u001b[39m\u001b[38;5;124;03m'''\u001b[39;00m\n\u001b[0;32m    364\u001b[0m \u001b[38;5;124;03m    Apply `func` to each element in `iterable`, collecting the results\u001b[39;00m\n\u001b[0;32m    365\u001b[0m \u001b[38;5;124;03m    in a list that is returned.\u001b[39;00m\n\u001b[0;32m    366\u001b[0m \u001b[38;5;124;03m    '''\u001b[39;00m\n\u001b[1;32m--> 367\u001b[0m     \u001b[38;5;28;01mreturn\u001b[39;00m \u001b[38;5;28;43mself\u001b[39;49m\u001b[38;5;241;43m.\u001b[39;49m\u001b[43m_map_async\u001b[49m\u001b[43m(\u001b[49m\u001b[43mfunc\u001b[49m\u001b[43m,\u001b[49m\u001b[43m \u001b[49m\u001b[43miterable\u001b[49m\u001b[43m,\u001b[49m\u001b[43m \u001b[49m\u001b[43mmapstar\u001b[49m\u001b[43m,\u001b[49m\u001b[43m \u001b[49m\u001b[43mchunksize\u001b[49m\u001b[43m)\u001b[49m\u001b[38;5;241;43m.\u001b[39;49m\u001b[43mget\u001b[49m\u001b[43m(\u001b[49m\u001b[43m)\u001b[49m\n",
      "File \u001b[1;32mf:\\Documents\\GitHub\\sharc_theory\\.venv\\Lib\\site-packages\\multiprocess\\pool.py:774\u001b[0m, in \u001b[0;36mApplyResult.get\u001b[1;34m(self, timeout)\u001b[0m\n\u001b[0;32m    772\u001b[0m     \u001b[38;5;28;01mreturn\u001b[39;00m \u001b[38;5;28mself\u001b[39m\u001b[38;5;241m.\u001b[39m_value\n\u001b[0;32m    773\u001b[0m \u001b[38;5;28;01melse\u001b[39;00m:\n\u001b[1;32m--> 774\u001b[0m     \u001b[38;5;28;01mraise\u001b[39;00m \u001b[38;5;28mself\u001b[39m\u001b[38;5;241m.\u001b[39m_value\n",
      "\u001b[1;31mNameError\u001b[0m: name 'randint' is not defined"
     ]
    }
   ],
   "source": [
    "operation_counts = run_simulation()\n"
   ]
  },
  {
   "cell_type": "code",
   "execution_count": null,
   "metadata": {},
   "outputs": [
    {
     "data": {
      "image/png": "[encoded data removed]",
      "text/plain": [
       "<Figure size 640x480 with 1 Axes>"
      ]
     },
     "metadata": {},
     "output_type": "display_data"
    }
   ],
   "source": [
    "import matplotlib.pyplot as plt\n",
    "\n",
    "# Run the simulation\n",
    "operation_counts, complexity_ratios = run_simulation()\n",
    "\n",
    "# Plot activity\n",
    "plt.figure(figsize=(12, 6))\n",
    "plt.subplot(1, 2, 1)\n",
    "plt.plot(operation_counts)\n",
    "plt.xlabel(\"Generation\")\n",
    "plt.ylabel(\"Active Operations\")\n",
    "plt.title(\"Active Operations Over Generations\")\n",
    "\n",
    "# Plot Kolmogorov complexity\n",
    "plt.subplot(1, 2, 2)\n",
    "plt.plot(complexity_ratios)\n",
    "plt.xlabel(\"Generation\")\n",
    "plt.ylabel(\"Compression Ratio\")\n",
    "plt.title(\"Kolmogorov Complexity (Compression Ratio) Over Generations\")\n",
    "\n",
    "plt.tight_layout()\n",
    "plt.show()\n"
   ]
  },
  {
   "cell_type": "code",
   "execution_count": null,
   "metadata": {},
   "outputs": [],
   "source": [
    "population = initialize_population()"
   ]
  },
  {
   "cell_type": "code",
   "execution_count": null,
   "metadata": {},
   "outputs": [
    {
     "data": {
      "text/plain": [
       "1024"
      ]
     },
     "execution_count": 8,
     "metadata": {},
     "output_type": "execute_result"
    }
   ],
   "source": [
    "len(population)"
   ]
  },
  {
   "cell_type": "code",
   "execution_count": null,
   "metadata": {},
   "outputs": [
    {
     "data": {
      "text/plain": [
       "[326, 584]"
      ]
     },
     "execution_count": 14,
     "metadata": {},
     "output_type": "execute_result"
    }
   ],
   "source": [
    "random.sample(range(POPULATION_SIZE), 2)"
   ]
  },
  {
   "cell_type": "code",
   "execution_count": null,
   "metadata": {},
   "outputs": [],
   "source": []
  }
 ],
 "metadata": {
  "kernelspec": {
   "display_name": ".venv",
   "language": "python",
   "name": "python3"
  },
  "language_info": {
   "codemirror_mode": {
    "name": "ipython",
    "version": 3
   },
   "file_extension": ".py",
   "mimetype": "text/x-python",
   "name": "python",
   "nbconvert_exporter": "python",
   "pygments_lexer": "ipython3",
   "version": "3.12.7"
  }
 },
 "nbformat": 4,
 "nbformat_minor": 2
}
